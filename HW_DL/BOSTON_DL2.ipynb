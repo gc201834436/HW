{
 "cells": [
  {
   "cell_type": "code",
   "execution_count": 1,
   "id": "faa20b32",
   "metadata": {},
   "outputs": [],
   "source": [
    "from tensorflow.keras.datasets import boston_housing\n",
    "from tensorflow import keras\n",
    "from tensorflow.keras import layers"
   ]
  },
  {
   "cell_type": "code",
   "execution_count": 2,
   "id": "bb9c2947",
   "metadata": {},
   "outputs": [],
   "source": [
    "(train_data, train_targets), (test_data, test_targets) = (boston_housing.load_data())"
   ]
  },
  {
   "cell_type": "code",
   "execution_count": 3,
   "id": "18029193",
   "metadata": {},
   "outputs": [],
   "source": [
    "mean = train_data.mean(axis = 0)\n",
    "train_data -= mean\n",
    "std = train_data.std(axis = 0)\n",
    "train_data /= std\n",
    "test_data -=mean\n",
    "test_data /= std"
   ]
  },
  {
   "cell_type": "code",
   "execution_count": 4,
   "id": "6ea89eee",
   "metadata": {},
   "outputs": [
    {
     "data": {
      "text/plain": [
       "(404, 13)"
      ]
     },
     "execution_count": 4,
     "metadata": {},
     "output_type": "execute_result"
    }
   ],
   "source": [
    "train_data.shape"
   ]
  },
  {
   "cell_type": "code",
   "execution_count": 5,
   "id": "43b1c9c7",
   "metadata": {},
   "outputs": [],
   "source": [
    "def build_model():\n",
    "    model = keras.Sequential([\n",
    "        layers.Dense(64, input_shape = (13,), activation='relu'),\n",
    "        layers.Dense(64, activation='relu'),\n",
    "        layers.Dense(1)\n",
    "    ])\n",
    "    model.compile(optimizer='rmsprop', loss = \"mse\",metrics=[\"mae\"])\n",
    "   \n",
    "    return model"
   ]
  },
  {
   "cell_type": "code",
   "execution_count": 6,
   "id": "c489ab67",
   "metadata": {},
   "outputs": [],
   "source": [
    "model = build_model()"
   ]
  },
  {
   "cell_type": "code",
   "execution_count": 7,
   "id": "ecb7f156",
   "metadata": {},
   "outputs": [
    {
     "name": "stdout",
     "output_type": "stream",
     "text": [
      "Model: \"sequential\"\n",
      "_________________________________________________________________\n",
      " Layer (type)                Output Shape              Param #   \n",
      "=================================================================\n",
      " dense (Dense)               (None, 64)                896       \n",
      "                                                                 \n",
      " dense_1 (Dense)             (None, 64)                4160      \n",
      "                                                                 \n",
      " dense_2 (Dense)             (None, 1)                 65        \n",
      "                                                                 \n",
      "=================================================================\n",
      "Total params: 5,121\n",
      "Trainable params: 5,121\n",
      "Non-trainable params: 0\n",
      "_________________________________________________________________\n"
     ]
    }
   ],
   "source": [
    " model.summary()"
   ]
  },
  {
   "cell_type": "code",
   "execution_count": 8,
   "id": "37ed119c",
   "metadata": {},
   "outputs": [
    {
     "name": "stdout",
     "output_type": "stream",
     "text": [
      "Epoch 1/100\n",
      "13/13 [==============================] - 1s 18ms/step - loss: 530.8483 - mae: 21.2071 - val_loss: 508.5615 - val_mae: 20.7196\n",
      "Epoch 2/100\n",
      "13/13 [==============================] - 0s 5ms/step - loss: 440.3706 - mae: 19.0249 - val_loss: 409.9141 - val_mae: 18.2775\n",
      "Epoch 3/100\n",
      "13/13 [==============================] - 0s 5ms/step - loss: 344.0572 - mae: 16.4222 - val_loss: 308.8247 - val_mae: 15.4842\n",
      "Epoch 4/100\n",
      "13/13 [==============================] - 0s 5ms/step - loss: 247.4016 - mae: 13.5103 - val_loss: 211.0760 - val_mae: 12.4801\n",
      "Epoch 5/100\n",
      "13/13 [==============================] - 0s 5ms/step - loss: 162.1377 - mae: 10.4288 - val_loss: 135.2350 - val_mae: 9.8997\n",
      "Epoch 6/100\n",
      "13/13 [==============================] - 0s 6ms/step - loss: 102.1741 - mae: 8.0270 - val_loss: 87.6475 - val_mae: 7.8306\n",
      "Epoch 7/100\n",
      "13/13 [==============================] - 0s 5ms/step - loss: 67.4601 - mae: 6.4273 - val_loss: 60.7177 - val_mae: 6.2793\n",
      "Epoch 8/100\n",
      "13/13 [==============================] - 0s 5ms/step - loss: 47.1341 - mae: 5.2598 - val_loss: 45.3215 - val_mae: 5.2189\n",
      "Epoch 9/100\n",
      "13/13 [==============================] - 0s 5ms/step - loss: 34.9860 - mae: 4.3805 - val_loss: 37.0860 - val_mae: 4.6975\n",
      "Epoch 10/100\n",
      "13/13 [==============================] - 0s 6ms/step - loss: 27.9907 - mae: 3.8373 - val_loss: 31.9346 - val_mae: 4.3495\n",
      "Epoch 11/100\n",
      "13/13 [==============================] - 0s 6ms/step - loss: 23.9819 - mae: 3.5452 - val_loss: 29.7989 - val_mae: 4.1932\n",
      "Epoch 12/100\n",
      "13/13 [==============================] - 0s 5ms/step - loss: 21.8830 - mae: 3.3578 - val_loss: 27.7945 - val_mae: 4.0092\n",
      "Epoch 13/100\n",
      "13/13 [==============================] - 0s 5ms/step - loss: 19.8963 - mae: 3.2146 - val_loss: 26.0279 - val_mae: 3.7721\n",
      "Epoch 14/100\n",
      "13/13 [==============================] - 0s 5ms/step - loss: 18.8473 - mae: 3.1014 - val_loss: 25.9579 - val_mae: 3.7137\n",
      "Epoch 15/100\n",
      "13/13 [==============================] - 0s 6ms/step - loss: 17.5445 - mae: 2.9537 - val_loss: 25.5663 - val_mae: 3.6633\n",
      "Epoch 16/100\n",
      "13/13 [==============================] - 0s 5ms/step - loss: 16.4239 - mae: 2.8865 - val_loss: 25.4084 - val_mae: 3.5995\n",
      "Epoch 17/100\n",
      "13/13 [==============================] - 0s 5ms/step - loss: 15.6450 - mae: 2.8028 - val_loss: 25.7173 - val_mae: 3.5591\n",
      "Epoch 18/100\n",
      "13/13 [==============================] - 0s 5ms/step - loss: 14.9323 - mae: 2.7553 - val_loss: 25.7711 - val_mae: 3.5256\n",
      "Epoch 19/100\n",
      "13/13 [==============================] - 0s 6ms/step - loss: 14.1980 - mae: 2.6636 - val_loss: 25.2506 - val_mae: 3.4253\n",
      "Epoch 20/100\n",
      "13/13 [==============================] - 0s 5ms/step - loss: 13.6550 - mae: 2.6208 - val_loss: 26.5522 - val_mae: 3.4780\n",
      "Epoch 21/100\n",
      "13/13 [==============================] - 0s 5ms/step - loss: 13.0405 - mae: 2.5627 - val_loss: 27.6253 - val_mae: 3.5402\n",
      "Epoch 22/100\n",
      "13/13 [==============================] - 0s 5ms/step - loss: 12.6776 - mae: 2.5349 - val_loss: 24.3228 - val_mae: 3.2750\n",
      "Epoch 23/100\n",
      "13/13 [==============================] - 0s 6ms/step - loss: 12.2899 - mae: 2.4927 - val_loss: 24.5055 - val_mae: 3.2434\n",
      "Epoch 24/100\n",
      "13/13 [==============================] - 0s 5ms/step - loss: 12.0630 - mae: 2.4191 - val_loss: 24.2113 - val_mae: 3.2017\n",
      "Epoch 25/100\n",
      "13/13 [==============================] - 0s 5ms/step - loss: 11.5719 - mae: 2.3993 - val_loss: 26.8060 - val_mae: 3.3424\n",
      "Epoch 26/100\n",
      "13/13 [==============================] - 0s 6ms/step - loss: 11.2042 - mae: 2.3829 - val_loss: 24.5037 - val_mae: 3.1948\n",
      "Epoch 27/100\n",
      "13/13 [==============================] - 0s 5ms/step - loss: 11.1109 - mae: 2.3472 - val_loss: 24.4869 - val_mae: 3.1704\n",
      "Epoch 28/100\n",
      "13/13 [==============================] - 0s 5ms/step - loss: 10.8936 - mae: 2.3272 - val_loss: 24.0250 - val_mae: 3.1209\n",
      "Epoch 29/100\n",
      "13/13 [==============================] - 0s 5ms/step - loss: 10.5953 - mae: 2.2886 - val_loss: 25.0040 - val_mae: 3.1990\n",
      "Epoch 30/100\n",
      "13/13 [==============================] - 0s 5ms/step - loss: 10.5254 - mae: 2.3159 - val_loss: 24.7313 - val_mae: 3.1366\n",
      "Epoch 31/100\n",
      "13/13 [==============================] - 0s 5ms/step - loss: 10.3662 - mae: 2.2629 - val_loss: 25.3606 - val_mae: 3.1440\n",
      "Epoch 32/100\n",
      "13/13 [==============================] - 0s 5ms/step - loss: 10.3122 - mae: 2.2706 - val_loss: 25.7513 - val_mae: 3.2662\n",
      "Epoch 33/100\n",
      "13/13 [==============================] - 0s 5ms/step - loss: 10.1422 - mae: 2.2479 - val_loss: 24.8227 - val_mae: 3.0818\n",
      "Epoch 34/100\n",
      "13/13 [==============================] - 0s 7ms/step - loss: 10.0075 - mae: 2.2017 - val_loss: 24.6217 - val_mae: 3.0622\n",
      "Epoch 35/100\n",
      "13/13 [==============================] - 0s 6ms/step - loss: 9.6964 - mae: 2.2044 - val_loss: 25.0461 - val_mae: 3.0827\n",
      "Epoch 36/100\n",
      "13/13 [==============================] - 0s 6ms/step - loss: 9.7595 - mae: 2.1804 - val_loss: 24.3583 - val_mae: 3.0446\n",
      "Epoch 37/100\n",
      "13/13 [==============================] - 0s 7ms/step - loss: 9.4424 - mae: 2.1583 - val_loss: 23.3939 - val_mae: 2.9813\n",
      "Epoch 38/100\n",
      "13/13 [==============================] - 0s 7ms/step - loss: 9.4601 - mae: 2.1842 - val_loss: 25.3740 - val_mae: 3.1233\n",
      "Epoch 39/100\n",
      "13/13 [==============================] - 0s 6ms/step - loss: 9.5428 - mae: 2.1677 - val_loss: 23.7467 - val_mae: 2.9893\n",
      "Epoch 40/100\n",
      "13/13 [==============================] - 0s 5ms/step - loss: 9.1056 - mae: 2.1286 - val_loss: 22.8384 - val_mae: 2.9167\n",
      "Epoch 41/100\n",
      "13/13 [==============================] - 0s 6ms/step - loss: 9.0679 - mae: 2.1025 - val_loss: 23.6736 - val_mae: 3.1320\n",
      "Epoch 42/100\n",
      "13/13 [==============================] - 0s 6ms/step - loss: 9.1689 - mae: 2.1252 - val_loss: 22.8362 - val_mae: 2.9231\n",
      "Epoch 43/100\n",
      "13/13 [==============================] - 0s 6ms/step - loss: 9.1961 - mae: 2.1083 - val_loss: 23.2206 - val_mae: 3.0045\n",
      "Epoch 44/100\n",
      "13/13 [==============================] - 0s 6ms/step - loss: 8.9470 - mae: 2.1050 - val_loss: 22.6712 - val_mae: 2.9310\n",
      "Epoch 45/100\n",
      "13/13 [==============================] - 0s 7ms/step - loss: 8.9261 - mae: 2.0781 - val_loss: 24.2435 - val_mae: 3.0320\n",
      "Epoch 46/100\n",
      "13/13 [==============================] - 0s 6ms/step - loss: 8.6597 - mae: 2.0892 - val_loss: 24.9588 - val_mae: 3.1416\n",
      "Epoch 47/100\n",
      "13/13 [==============================] - 0s 6ms/step - loss: 8.6803 - mae: 2.0495 - val_loss: 23.2240 - val_mae: 2.9030\n",
      "Epoch 48/100\n",
      "13/13 [==============================] - 0s 6ms/step - loss: 8.6797 - mae: 2.0474 - val_loss: 23.4352 - val_mae: 2.9417\n",
      "Epoch 49/100\n",
      "13/13 [==============================] - 0s 6ms/step - loss: 8.5990 - mae: 2.0381 - val_loss: 23.6285 - val_mae: 3.0237\n",
      "Epoch 50/100\n",
      "13/13 [==============================] - 0s 6ms/step - loss: 8.4189 - mae: 2.0403 - val_loss: 22.9246 - val_mae: 2.9853\n",
      "Epoch 51/100\n",
      "13/13 [==============================] - 0s 6ms/step - loss: 8.4029 - mae: 2.0266 - val_loss: 23.0738 - val_mae: 2.9345\n",
      "Epoch 52/100\n",
      "13/13 [==============================] - 0s 6ms/step - loss: 8.2539 - mae: 2.0117 - val_loss: 23.2451 - val_mae: 2.9070\n",
      "Epoch 53/100\n",
      "13/13 [==============================] - 0s 6ms/step - loss: 8.2921 - mae: 2.0148 - val_loss: 24.6389 - val_mae: 2.9952\n",
      "Epoch 54/100\n",
      "13/13 [==============================] - 0s 6ms/step - loss: 8.1332 - mae: 2.0176 - val_loss: 23.1478 - val_mae: 2.9146\n",
      "Epoch 55/100\n",
      "13/13 [==============================] - 0s 6ms/step - loss: 8.1439 - mae: 2.0194 - val_loss: 23.7929 - val_mae: 3.1894\n",
      "Epoch 56/100\n",
      "13/13 [==============================] - 0s 7ms/step - loss: 8.0804 - mae: 1.9810 - val_loss: 21.3755 - val_mae: 2.8798\n",
      "Epoch 57/100\n",
      "13/13 [==============================] - 0s 7ms/step - loss: 7.8836 - mae: 1.9718 - val_loss: 25.1546 - val_mae: 3.1725\n",
      "Epoch 58/100\n",
      "13/13 [==============================] - 0s 7ms/step - loss: 7.9414 - mae: 2.0117 - val_loss: 21.8326 - val_mae: 2.8361\n",
      "Epoch 59/100\n",
      "13/13 [==============================] - 0s 6ms/step - loss: 7.8627 - mae: 1.9918 - val_loss: 22.5564 - val_mae: 3.0294\n",
      "Epoch 60/100\n",
      "13/13 [==============================] - 0s 6ms/step - loss: 8.0287 - mae: 1.9728 - val_loss: 22.6353 - val_mae: 2.8669\n",
      "Epoch 61/100\n",
      "13/13 [==============================] - 0s 6ms/step - loss: 7.7504 - mae: 1.9322 - val_loss: 23.1926 - val_mae: 2.9497\n",
      "Epoch 62/100\n"
     ]
    },
    {
     "name": "stdout",
     "output_type": "stream",
     "text": [
      "13/13 [==============================] - 0s 6ms/step - loss: 7.7521 - mae: 1.9472 - val_loss: 23.2951 - val_mae: 3.0935\n",
      "Epoch 63/100\n",
      "13/13 [==============================] - 0s 7ms/step - loss: 7.6390 - mae: 1.9508 - val_loss: 21.4897 - val_mae: 2.8718\n",
      "Epoch 64/100\n",
      "13/13 [==============================] - 0s 8ms/step - loss: 7.5712 - mae: 1.9004 - val_loss: 20.6816 - val_mae: 2.7982\n",
      "Epoch 65/100\n",
      "13/13 [==============================] - 0s 6ms/step - loss: 7.5508 - mae: 1.9139 - val_loss: 20.8125 - val_mae: 2.7882\n",
      "Epoch 66/100\n",
      "13/13 [==============================] - 0s 5ms/step - loss: 7.6940 - mae: 1.9519 - val_loss: 21.4346 - val_mae: 2.8632\n",
      "Epoch 67/100\n",
      "13/13 [==============================] - 0s 6ms/step - loss: 7.4085 - mae: 1.9081 - val_loss: 21.4326 - val_mae: 2.8285\n",
      "Epoch 68/100\n",
      "13/13 [==============================] - 0s 6ms/step - loss: 7.3431 - mae: 1.9101 - val_loss: 22.2746 - val_mae: 2.8828\n",
      "Epoch 69/100\n",
      "13/13 [==============================] - 0s 6ms/step - loss: 7.2921 - mae: 1.9000 - val_loss: 22.8901 - val_mae: 3.0274\n",
      "Epoch 70/100\n",
      "13/13 [==============================] - 0s 6ms/step - loss: 7.2795 - mae: 1.8879 - val_loss: 22.2850 - val_mae: 2.9747\n",
      "Epoch 71/100\n",
      "13/13 [==============================] - 0s 6ms/step - loss: 7.1570 - mae: 1.8952 - val_loss: 22.4108 - val_mae: 3.0316\n",
      "Epoch 72/100\n",
      "13/13 [==============================] - 0s 5ms/step - loss: 7.1493 - mae: 1.8645 - val_loss: 21.3754 - val_mae: 2.9237\n",
      "Epoch 73/100\n",
      "13/13 [==============================] - 0s 5ms/step - loss: 7.3285 - mae: 1.8854 - val_loss: 21.5508 - val_mae: 2.8692\n",
      "Epoch 74/100\n",
      "13/13 [==============================] - 0s 5ms/step - loss: 6.9977 - mae: 1.8382 - val_loss: 20.7938 - val_mae: 2.8409\n",
      "Epoch 75/100\n",
      "13/13 [==============================] - 0s 5ms/step - loss: 7.2093 - mae: 1.8578 - val_loss: 21.1259 - val_mae: 2.9210\n",
      "Epoch 76/100\n",
      "13/13 [==============================] - 0s 5ms/step - loss: 7.1437 - mae: 1.8650 - val_loss: 19.6949 - val_mae: 2.7357\n",
      "Epoch 77/100\n",
      "13/13 [==============================] - 0s 5ms/step - loss: 6.8653 - mae: 1.8228 - val_loss: 21.1238 - val_mae: 2.8639\n",
      "Epoch 78/100\n",
      "13/13 [==============================] - 0s 5ms/step - loss: 6.9904 - mae: 1.8264 - val_loss: 22.2125 - val_mae: 3.0229\n",
      "Epoch 79/100\n",
      "13/13 [==============================] - 0s 6ms/step - loss: 6.8130 - mae: 1.8284 - val_loss: 20.2895 - val_mae: 2.9263\n",
      "Epoch 80/100\n",
      "13/13 [==============================] - 0s 5ms/step - loss: 7.1078 - mae: 1.8790 - val_loss: 20.4756 - val_mae: 2.7545\n",
      "Epoch 81/100\n",
      "13/13 [==============================] - 0s 6ms/step - loss: 6.8437 - mae: 1.8311 - val_loss: 21.3036 - val_mae: 2.9771\n",
      "Epoch 82/100\n",
      "13/13 [==============================] - 0s 6ms/step - loss: 6.8108 - mae: 1.8551 - val_loss: 20.3078 - val_mae: 2.8909\n",
      "Epoch 83/100\n",
      "13/13 [==============================] - 0s 5ms/step - loss: 6.8152 - mae: 1.8045 - val_loss: 20.1755 - val_mae: 2.7739\n",
      "Epoch 84/100\n",
      "13/13 [==============================] - 0s 5ms/step - loss: 6.5604 - mae: 1.7850 - val_loss: 19.5610 - val_mae: 2.7273\n",
      "Epoch 85/100\n",
      "13/13 [==============================] - 0s 6ms/step - loss: 6.7574 - mae: 1.8109 - val_loss: 22.6098 - val_mae: 3.0386\n",
      "Epoch 86/100\n",
      "13/13 [==============================] - 0s 5ms/step - loss: 6.6426 - mae: 1.8255 - val_loss: 19.7800 - val_mae: 2.8220\n",
      "Epoch 87/100\n",
      "13/13 [==============================] - 0s 5ms/step - loss: 6.4324 - mae: 1.7668 - val_loss: 22.6275 - val_mae: 2.9737\n",
      "Epoch 88/100\n",
      "13/13 [==============================] - 0s 5ms/step - loss: 6.6564 - mae: 1.8297 - val_loss: 19.5256 - val_mae: 2.8169\n",
      "Epoch 89/100\n",
      "13/13 [==============================] - 0s 5ms/step - loss: 6.5282 - mae: 1.8178 - val_loss: 20.3707 - val_mae: 2.7590\n",
      "Epoch 90/100\n",
      "13/13 [==============================] - 0s 5ms/step - loss: 6.4640 - mae: 1.7859 - val_loss: 20.2398 - val_mae: 2.8973\n",
      "Epoch 91/100\n",
      "13/13 [==============================] - 0s 5ms/step - loss: 6.3400 - mae: 1.7820 - val_loss: 19.8380 - val_mae: 2.7347\n",
      "Epoch 92/100\n",
      "13/13 [==============================] - 0s 5ms/step - loss: 6.4214 - mae: 1.7918 - val_loss: 19.8921 - val_mae: 2.7741\n",
      "Epoch 93/100\n",
      "13/13 [==============================] - 0s 5ms/step - loss: 6.3397 - mae: 1.7584 - val_loss: 20.3014 - val_mae: 2.8434\n",
      "Epoch 94/100\n",
      "13/13 [==============================] - 0s 5ms/step - loss: 6.4324 - mae: 1.7750 - val_loss: 20.1662 - val_mae: 2.8508\n",
      "Epoch 95/100\n",
      "13/13 [==============================] - 0s 5ms/step - loss: 6.1935 - mae: 1.7351 - val_loss: 20.3976 - val_mae: 2.8697\n",
      "Epoch 96/100\n",
      "13/13 [==============================] - 0s 6ms/step - loss: 6.3235 - mae: 1.7728 - val_loss: 19.4269 - val_mae: 2.8097\n",
      "Epoch 97/100\n",
      "13/13 [==============================] - 0s 5ms/step - loss: 5.9927 - mae: 1.7148 - val_loss: 22.2483 - val_mae: 3.1323\n",
      "Epoch 98/100\n",
      "13/13 [==============================] - 0s 5ms/step - loss: 6.3100 - mae: 1.7968 - val_loss: 19.2072 - val_mae: 2.7323\n",
      "Epoch 99/100\n",
      "13/13 [==============================] - 0s 5ms/step - loss: 6.2188 - mae: 1.7662 - val_loss: 19.4710 - val_mae: 2.7707\n",
      "Epoch 100/100\n",
      "13/13 [==============================] - 0s 5ms/step - loss: 5.9869 - mae: 1.7162 - val_loss: 19.3381 - val_mae: 2.7185\n",
      "4/4 [==============================] - 0s 2ms/step\n"
     ]
    }
   ],
   "source": [
    "#fitting the model and predicting \n",
    "# fit network\n",
    "history=model.fit(x=train_data, y=train_targets, epochs=100, batch_size=32,validation_data= (test_data,test_targets))\n",
    "y_pred = model.predict(test_data)"
   ]
  },
  {
   "cell_type": "code",
   "execution_count": 9,
   "id": "542e4d8a",
   "metadata": {},
   "outputs": [
    {
     "data": {
      "image/png": "[encoded data removed]",
      "text/plain": [
       "<Figure size 640x480 with 1 Axes>"
      ]
     },
     "metadata": {},
     "output_type": "display_data"
    }
   ],
   "source": [
    "history_dict = history.history\n",
    "mae = history_dict['mae']\n",
    "\n",
    "import matplotlib.pyplot as plt\n",
    "history_dict = history.history\n",
    "loss_values = history_dict['loss'] \n",
    "val_loss_values = history_dict['val_loss']\n",
    "epochs = range(1, len(mae) + 1)\n",
    "plt.plot(epochs, loss_values, 'bo', label='Training loss') \n",
    "plt.plot(epochs, val_loss_values, 'b', label='Validation loss')\n",
    "plt.title('Training and validation loss') \n",
    "plt.xlabel('Epochs')\n",
    "plt.ylabel('Loss') \n",
    "plt.legend()\n",
    "plt.show()"
   ]
  },
  {
   "cell_type": "code",
   "execution_count": 16,
   "id": "9aeeb2da",
   "metadata": {},
   "outputs": [
    {
     "data": {
      "image/png": "[encoded data removed]",
      "text/plain": [
       "<Figure size 640x480 with 1 Axes>"
      ]
     },
     "metadata": {},
     "output_type": "display_data"
    }
   ],
   "source": [
    "loss_values = history_dict['loss'] \n",
    "val_loss_values = history_dict['val_loss']\n",
    "\n",
    "truncated_loss_values = loss_values[10:]\n",
    "truncated_val_loss_values = val_loss_values[10:]\n",
    "\n",
    "plt.plot(range(1, len(truncated_loss_values) + 1), truncated_loss_values)\n",
    "plt.plot(range(1, len(truncated_val_loss_values) + 1), truncated_val_loss_values)\n",
    "plt.xlabel(\"Epochs\")\n",
    "plt.ylabel(\"validation MAE\")\n",
    "plt.show()"
   ]
  },
  {
   "cell_type": "code",
   "execution_count": null,
   "id": "b107c090",
   "metadata": {},
   "outputs": [],
   "source": []
  },
  {
   "cell_type": "code",
   "execution_count": null,
   "id": "65a17054",
   "metadata": {},
   "outputs": [],
   "source": []
  },
  {
   "cell_type": "code",
   "execution_count": null,
   "id": "b254b81b",
   "metadata": {},
   "outputs": [],
   "source": []
  },
  {
   "cell_type": "code",
   "execution_count": null,
   "id": "a97ca16a",
   "metadata": {},
   "outputs": [],
   "source": []
  },
  {
   "cell_type": "code",
   "execution_count": null,
   "id": "2075dddb",
   "metadata": {},
   "outputs": [],
   "source": []
  },
  {
   "cell_type": "code",
   "execution_count": null,
   "id": "8ed9ea5e",
   "metadata": {},
   "outputs": [],
   "source": []
  }
 ],
 "metadata": {
  "kernelspec": {
   "display_name": "Python 3 (ipykernel)",
   "language": "python",
   "name": "python3"
  },
  "language_info": {
   "codemirror_mode": {
    "name": "ipython",
    "version": 3
   },
   "file_extension": ".py",
   "mimetype": "text/x-python",
   "name": "python",
   "nbconvert_exporter": "python",
   "pygments_lexer": "ipython3",
   "version": "3.9.13"
  }
 },
 "nbformat": 4,
 "nbformat_minor": 5
}
